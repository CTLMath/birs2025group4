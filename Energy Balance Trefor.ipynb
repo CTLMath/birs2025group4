{
 "cells": [
  {
   "cell_type": "code",
   "execution_count": 26,
   "id": "1d36dc28-d350-43b0-8307-0d635983aa54",
   "metadata": {},
   "outputs": [],
   "source": [
    "import numpy as np\n",
    "import matplotlib.pyplot as plt"
   ]
  },
  {
   "cell_type": "markdown",
   "id": "dc0fc293-a076-445d-b05c-a93b40e1188d",
   "metadata": {
    "editable": true,
    "slideshow": {
     "slide_type": ""
    },
    "tags": []
   },
   "source": [
    "## Energy Balance Models\n",
    "We had just developed the following mathematical model for the temperature of the earth:\n",
    "$$C\\frac{dT}{dt}=\\frac{S(1-\\alpha)}{4} - \\sigma T^4$$"
   ]
  },
  {
   "cell_type": "markdown",
   "id": "d141b778-a95b-4b59-b7c7-c641d98304d8",
   "metadata": {},
   "source": [
    "The earth is at equilibrium (that is, the temperature does not change as a function of time) when $\\frac{dT}{dt}=0$ giving \n",
    "\n",
    "$$0=\\frac{S(1-\\alpha)}{4}-\\sigma T^4$$\n",
    "\n",
    "Let's solve this for realistic values of $S$, $\\sigma$ and $\\alpha$. "
   ]
  },
  {
   "cell_type": "code",
   "execution_count": 5,
   "id": "958c607e-22f3-4d32-a059-85ddb517944b",
   "metadata": {
    "editable": true,
    "slideshow": {
     "slide_type": ""
    },
    "tags": []
   },
   "outputs": [
    {
     "name": "stdout",
     "output_type": "stream",
     "text": [
      "-18.095147875507536\n"
     ]
    }
   ],
   "source": [
    "import numpy as np\n",
    "S = 1368\n",
    "sigma = 5.670374419e-8\n",
    "alpha=0.3\n",
    "\n",
    "T=((S*(1-alpha)/4)/sigma)**(1/4)-273\n",
    "print(T)\n"
   ]
  },
  {
   "cell_type": "markdown",
   "id": "27bafea7-7834-4a65-9fb0-bf79c825b7a6",
   "metadata": {
    "editable": true,
    "slideshow": {
     "slide_type": ""
    },
    "tags": []
   },
   "source": [
    "##Adding an Atmosphere\n",
    "This is quite a bit too cold for an average temperature of the earth. However, our model ignores an atmosphere. Some the exiting raditation (recall this was represented by the $\\sigma T^4$ term) gets absorbed by the atmosphere and then is reemited back down to earth. We can model this by including a multiplicative factor $\\beta$ which is a number about $\\beta\\approx 0.62$ to the quartic term. \n",
    "\n",
    "$$0=\\frac{S(1-\\alpha)}{4}-\\sigma \\beta T^4$$\n",
    "\n"
   ]
  },
  {
   "cell_type": "code",
   "execution_count": 23,
   "id": "41e263f5-9d58-4991-83a6-02ce39d24f2c",
   "metadata": {},
   "outputs": [
    {
     "name": "stdout",
     "output_type": "stream",
     "text": [
      "14.26332299608299\n"
     ]
    }
   ],
   "source": [
    "beta=0.62\n",
    "\n",
    "T=(S*(1-alpha)/(4*sigma*beta))**(1/4)-273\n",
    "print(T)"
   ]
  },
  {
   "cell_type": "markdown",
   "id": "de9ab3fc-1f5b-4ed8-b5ce-3e9cf4f7dacb",
   "metadata": {},
   "source": [
    "We've now gotten a value much closer to the true average earth temperature. "
   ]
  },
  {
   "cell_type": "markdown",
   "id": "6782e7a5-da19-48eb-adac-018c16b6e774",
   "metadata": {},
   "source": [
    "See what happens when you turn down the value of beta, just a bit, say to $\\beta=0.60$. This would mean that the atmosphere was doing a slightly better job of trapping in heat and less was escaping. One way this might occur is by adding more $CO_2$ to the atmosphere. Uhoh! That small change increases the temperature by $2\\degree C$."
   ]
  },
  {
   "cell_type": "markdown",
   "id": "be2935d3-0266-4a02-a45d-69bbfe7bdd3c",
   "metadata": {},
   "source": [
    "Let's see a plot of temperature as a function of this absorbtion factor $beta$. "
   ]
  },
  {
   "cell_type": "code",
   "execution_count": 29,
   "id": "871d77ab-6727-4700-930c-0d1c088bd443",
   "metadata": {
    "editable": true,
    "slideshow": {
     "slide_type": ""
    },
    "tags": []
   },
   "outputs": [
    {
     "data": {
      "text/plain": [
       "[<matplotlib.lines.Line2D at 0x7f6946d74560>]"
      ]
     },
     "execution_count": 29,
     "metadata": {},
     "output_type": "execute_result"
    },
    {
     "data": {
      "image/png": "[encoded data removed]",
      "text/plain": [
       "<Figure size 640x480 with 1 Axes>"
      ]
     },
     "metadata": {},
     "output_type": "display_data"
    }
   ],
   "source": [
    "beta=np.linspace(0.2,0.8,50)\n",
    "T=lambda beta: (S*(1-alpha)/(4*sigma*beta))**(1/4)-273\n",
    "plt.plot(beta,T(beta))\n"
   ]
  },
  {
   "cell_type": "code",
   "execution_count": null,
   "id": "93559a3e-5395-46ea-bdca-be2f7df72816",
   "metadata": {},
   "outputs": [],
   "source": []
  }
 ],
 "metadata": {
  "kernelspec": {
   "display_name": "Python 3 (ipykernel)",
   "language": "python",
   "name": "python3"
  },
  "language_info": {
   "codemirror_mode": {
    "name": "ipython",
    "version": 3
   },
   "file_extension": ".py",
   "mimetype": "text/x-python",
   "name": "python",
   "nbconvert_exporter": "python",
   "pygments_lexer": "ipython3",
   "version": "3.12.8"
  }
 },
 "nbformat": 4,
 "nbformat_minor": 5
}

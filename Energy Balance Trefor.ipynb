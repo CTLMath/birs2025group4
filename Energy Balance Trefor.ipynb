{
 "cells": [
  {
   "cell_type": "code",
   "execution_count": 26,
   "id": "1d36dc28-d350-43b0-8307-0d635983aa54",
   "metadata": {},
   "outputs": [],
   "source": [
    "import numpy as np\n",
    "import matplotlib.pyplot as plt"
   ]
  },
  {
   "cell_type": "markdown",
   "id": "dc0fc293-a076-445d-b05c-a93b40e1188d",
   "metadata": {
    "editable": true,
    "slideshow": {
     "slide_type": ""
    },
    "tags": []
   },
   "source": [
    "## Energy Balance Model\n",
    "\n",
    "An energy balance model provides the change in temperature $T$ as a function of time $t$ as \n",
    "\n",
    "$$C\\frac{dT}{dt} = \\text{Energy In} - \\text{Energy Out}$$\n",
    "\n",
    "where $C$ is a constant we won't worry about to keep the units correct. \n",
    "\n",
    "Skipping over some pretty picture I'll do on the board, we get a model:\n",
    "$$C\\frac{dT}{dt}=\\frac{S(1-\\alpha)}{4} - \\sigma T^4$$"
   ]
  },
  {
   "cell_type": "markdown",
   "id": "d141b778-a95b-4b59-b7c7-c641d98304d8",
   "metadata": {},
   "source": [
    "The earth is at equilibrium (that is, the temperature does not change as a function of time) when $\\frac{dT}{dt}=0$ giving \n",
    "\n",
    "$$0=\\frac{S(1-\\alpha)}{4}-\\sigma T^4$$\n",
    "\n",
    "Let's solve this for realistic values of $S$, $\\sigma$ and $\\alpha$. "
   ]
  },
  {
   "cell_type": "code",
   "execution_count": 5,
   "id": "958c607e-22f3-4d32-a059-85ddb517944b",
   "metadata": {
    "editable": true,
    "slideshow": {
     "slide_type": ""
    },
    "tags": []
   },
   "outputs": [
    {
     "name": "stdout",
     "output_type": "stream",
     "text": [
      "-18.095147875507536\n"
     ]
    }
   ],
   "source": [
    "import numpy as np\n",
    "S = 1368\n",
    "sigma = 5.670374419e-8\n",
    "alpha=0.3\n",
    "\n",
    "T=((S*(1-alpha)/4)/sigma)**(1/4)-273\n",
    "print(T)\n"
   ]
  },
  {
   "cell_type": "markdown",
   "id": "27bafea7-7834-4a65-9fb0-bf79c825b7a6",
   "metadata": {
    "editable": true,
    "slideshow": {
     "slide_type": ""
    },
    "tags": []
   },
   "source": [
    "## Adding an Atmosphere\n",
    "This is quite a bit too cold for an average temperature of the earth. However, our model ignores an atmosphere. Some the exiting raditation (recall this was represented by the $\\sigma T^4$ term) gets absorbed by the atmosphere and then is reemited back down to earth. We can model this by including a multiplicative factor $\\beta$ which is a number about $\\beta\\approx 0.62$ to the quartic term. \n",
    "\n",
    "$$0=\\frac{S(1-\\alpha)}{4}-\\sigma \\beta T^4$$\n",
    "\n"
   ]
  },
  {
   "cell_type": "code",
   "execution_count": 23,
   "id": "41e263f5-9d58-4991-83a6-02ce39d24f2c",
   "metadata": {},
   "outputs": [
    {
     "name": "stdout",
     "output_type": "stream",
     "text": [
      "14.26332299608299\n"
     ]
    }
   ],
   "source": [
    "beta=0.62\n",
    "\n",
    "T=(S*(1-alpha)/(4*sigma*beta))**(1/4)-273\n",
    "print(T)"
   ]
  },
  {
   "cell_type": "markdown",
   "id": "de9ab3fc-1f5b-4ed8-b5ce-3e9cf4f7dacb",
   "metadata": {},
   "source": [
    "We've now gotten a value much closer to the true average earth temperature. Yay!"
   ]
  },
  {
   "cell_type": "markdown",
   "id": "5785186b-9588-4f4f-bbf0-bbbbb3f89f5f",
   "metadata": {},
   "source": [
    "Uhoh! That small change increases the temperature by $2\\degree C$."
   ]
  },
  {
   "cell_type": "markdown",
   "id": "6782e7a5-da19-48eb-adac-018c16b6e774",
   "metadata": {},
   "source": [
    "Let's go back to the full equation $$C\\frac{dT}{dt}=\\frac{S(1-\\alpha)}{4} - \\sigma \\beta T^4$$\n",
    "\n",
    "Suppose our planet is at the equilibirum temperature we just computed, $T\\approx 14.26\\degree C$. Suppose that now we turned down the value of beta, just a bit, say to $\\beta=0.60$. This would mean that the atmosphere was doing a slightly better job of trapping in heat and less was escaping. One way this might occur is by adding more $CO_2$ to the atmosphere. \n",
    "\n",
    "Does this mean $\\frac{dT}{dt}$ will be positive or negative? "
   ]
  },
  {
   "cell_type": "code",
   "execution_count": 34,
   "id": "8fbc0420-76d7-406a-bbf4-0be3bb004994",
   "metadata": {},
   "outputs": [],
   "source": [
    "#Your Answer Here"
   ]
  },
  {
   "cell_type": "markdown",
   "id": "d4d155ce-c96c-4363-8d7e-69f5e777bad1",
   "metadata": {},
   "source": [
    "Now try plugging in $\\beta = 0.6$ into our earlier code and see what the new equilibrium temperature $T$ will be. That small change resulted in a $2\\degree C$ increase to the global average temperature. Uhoh!"
   ]
  },
  {
   "cell_type": "markdown",
   "id": "be2935d3-0266-4a02-a45d-69bbfe7bdd3c",
   "metadata": {},
   "source": [
    "Let's see a plot of temperature as a function of this absorbtion factor $beta$. "
   ]
  },
  {
   "cell_type": "code",
   "execution_count": 32,
   "id": "871d77ab-6727-4700-930c-0d1c088bd443",
   "metadata": {
    "editable": true,
    "slideshow": {
     "slide_type": ""
    },
    "tags": []
   },
   "outputs": [
    {
     "data": {
      "text/plain": [
       "[<matplotlib.lines.Line2D at 0x7f6946c87f50>]"
      ]
     },
     "execution_count": 32,
     "metadata": {},
     "output_type": "execute_result"
    },
    {
     "data": {
      "image/png": "[encoded data removed]",
      "text/plain": [
       "<Figure size 640x480 with 1 Axes>"
      ]
     },
     "metadata": {},
     "output_type": "display_data"
    }
   ],
   "source": [
    "beta=np.linspace(0.1,1,100)\n",
    "T=lambda beta: (S*(1-alpha)/(4*sigma*beta))**(1/4)-273\n",
    "plt.plot(beta,T(beta))\n"
   ]
  },
  {
   "cell_type": "code",
   "execution_count": null,
   "id": "2709a44c-6e1e-4a3d-8ea8-1754bf8b220b",
   "metadata": {},
   "outputs": [],
   "source": []
  }
 ],
 "metadata": {
  "kernelspec": {
   "display_name": "Python 3 (ipykernel)",
   "language": "python",
   "name": "python3"
  },
  "language_info": {
   "codemirror_mode": {
    "name": "ipython",
    "version": 3
   },
   "file_extension": ".py",
   "mimetype": "text/x-python",
   "name": "python",
   "nbconvert_exporter": "python",
   "pygments_lexer": "ipython3",
   "version": "3.12.8"
  }
 },
 "nbformat": 4,
 "nbformat_minor": 5
}
